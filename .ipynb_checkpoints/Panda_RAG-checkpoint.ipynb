{
 "cells": [
  {
   "cell_type": "code",
   "execution_count": null,
   "id": "e38b2fd2-d8c6-4955-a087-2b5b3edaca0a",
   "metadata": {},
   "outputs": [],
   "source": [
    "\"\"\"\n",
    "I had a idea from work like below for my final projects, I think I will doing solo but if anyone want to work together you are more than welcome to DM me. \n",
    "\n",
    "Background: My job is sale directors for steel companies, so we hitting the road really often, when we going out to visit customer, we will visit 3-4 customer at the same time. Everytime I need to find information like what is the sale volume to customer last month, what is the sizes, what is the average prices or previous month prices, I need to open my laptop, get to the ERP and found the information. \n",
    "\n",
    "My project: I will made use a local LLMs and Perplexity as my personal assistance. So I will make RAG to access the database, take out the information I need, example like the list of sizes we sold to customers. The material description can be change but can be also repeating multiple times, the diffirences is in the volume wise.\n",
    "\n",
    "\n",
    "Interface: I think I will use Gradio to do chat interface, then deploy to Hughing Face with address that only me can access \n",
    "\n",
    "Extra Credit: It is already a structured data to begin with hahaha. I am thinking about routing agents as tools call.\n",
    "There will be 3 tools calling:\n",
    "1/Use PandasQueryEngines to get information of averages prices etc...\n",
    "2/Use Tools to drawing a charts using data from PandasQuery Engines results\n",
    "3/Using tools to passed the Queries to Perplexity when I asking something like where is the company, what information it hads. Meaning outside of the RAG Database and most up-to-date data. \n",
    "\n",
    "The table will have 8 columns:\n",
    "Customer name, Item code, Description, Quantity, Unit, Price per unit, Total value, Billing date. \n",
    "\n",
    "This 8 columns enough data for me. From customer name, if I want any other information, Perplexity can help me. \n",
    "\n",
    "I choose to reduce the complexity of the data in order to 1 single client data including a very few columns but having many many rows instead, this should fit to my need, no need to get a really complex multiple relationship database. \n",
    "\n",
    "FYI: The description will be in Vietnamese so Local LLM need to able to handle multi-language.\n",
    "\"\"\""
   ]
  },
  {
   "cell_type": "code",
   "execution_count": null,
   "id": "e89e9874-2c73-496e-bdec-abb49e05fabe",
   "metadata": {},
   "outputs": [],
   "source": [
    "\"\"\"\n",
    "!pip install -q pandas\n",
    "!pip install -q openai\n",
    "!pip install -q sentence-transformers\n",
    "!pip install -q llama-index-program-openai\n",
    "!pip install -q llama-index-llms-openai\n",
    "!pip install -q llama-index-experimental\n",
    "!pip install -q llama-index-embeddings-huggingface\n",
    "!pip install -q llama-index-embeddings-fastembed\n",
    "!pip install -q llama-index-embeddings-openai\n",
    "!pip install -q fastembed\n",
    "!pip install -q xlrd>=2.0.1\n",
    "!pip install -q openpyxl\n",
    "\"\"\""
   ]
  },
  {
   "cell_type": "code",
   "execution_count": null,
   "id": "43e9226f-e16b-4f73-a5b3-69d4106368c9",
   "metadata": {},
   "outputs": [],
   "source": [
    "import os\n",
    "import ollama\n",
    "import pandas as pd\n",
    "from openai import OpenAI\n",
    "from dotenv import load_dotenv, find_dotenv\n",
    "from llama_index.experimental.query_engine import PandasQueryEngine\n",
    "from llama_index.core import PromptTemplate\n",
    "\n"
   ]
  },
  {
   "cell_type": "code",
   "execution_count": null,
   "id": "c0d220e2-92e0-46d5-8729-83e5d249df25",
   "metadata": {},
   "outputs": [],
   "source": [
    "dotenv_path = find_dotenv()  # Searches up the directory tree\n",
    "#print(f\"Loading dotenv from: {dotenv_path}\")\n",
    "load_dotenv(dotenv_path)\n",
    "openai_api_key = os.getenv('OPENAI_API_KEY')\n",
    "hf_key = os.getenv('HF_KEY')\n",
    "os.environ[\"OPENAI_API_KEY\"] = openai_api_key"
   ]
  },
  {
   "cell_type": "code",
   "execution_count": null,
   "id": "40e90273-af27-4ddc-a3d1-4637ea379262",
   "metadata": {},
   "outputs": [],
   "source": [
    "Ollama_MODEL = \"llama3.1\"  # Specifies the Ollama model to use.\n",
    "Ollama_LLM = OpenAI(base_url=\"http://localhost:11434/v1\", api_key=\"ollama\")\n",
    "\n",
    "response = Ollama_LLM.chat.completions.create(\n",
    "    model=Ollama_MODEL,\n",
    "    messages=[\n",
    "        {\"role\": \"user\", \"content\": \"Who are you? What is your name, version and Parameter?  What is your strength? Do you support Vietnamese language\"}\n",
    "    ]\n",
    ")\n",
    "print(response.choices[0].message.content)\n"
   ]
  },
  {
   "cell_type": "code",
   "execution_count": null,
   "id": "740dfb2b-dd62-4f37-912f-2c33801d24d8",
   "metadata": {},
   "outputs": [],
   "source": [
    "Deepseek_MODEL = \"deepseek-coder:6.7b\"  # Specifies the Ollama model to use.\n",
    "Deepseek_LLM = OpenAI(base_url=\"http://localhost:11434/v1\", api_key=\"ollama\")\n",
    "'''\n",
    "response = Deepseek_LLM.chat.completions.create(\n",
    "    model=Deepseek_MODEL,\n",
    "    messages=[\n",
    "        {\"role\": \"user\", \"content\": \"Who are you? What is your name, version and Parameter?  What is your strength? Do you support Vietnamese language\"}\n",
    "    ]\n",
    ")\n",

    "print(response.choices[0].message.content) \n"

   ]
  },
  {
   "cell_type": "code",
   "execution_count": null,
   "id": "be5fb3df-2323-47b9-a23a-29976385aa71",
   "metadata": {},
   "outputs": [],
   "source": [
    "def load_excel_files(folder_path):\n",
    "    \"\"\"Loads multiple .xls files from a folder into a single pandas DataFrame.\n",
    "\n",
    "    Args:\n",
    "        folder_path: The path to the folder containing the .xls files.\n",
    "\n",
    "    Returns:\n",
    "        A pandas DataFrame containing the combined data from all .xls files,\n",
    "        or None if no .xls files are found or an error occurs.\n",
    "    \"\"\"\n",
    "    all_data = []\n",
    "    for filename in os.listdir(folder_path):\n",
    "        if filename.endswith(\".xlsx\"):\n",
    "            file_path = os.path.join(folder_path, filename)\n",
    "            try:\n",
    "                df = pd.read_excel(file_path)\n",
    "                all_data.append(df)\n",
    "            except Exception as e:\n",
    "                print(f\"Error reading file {filename}: {e}\")\n",
    "                # Handle the error appropriately (e.g., skip the file, raise an exception)\n",
    "                return None\n",
    "\n",
    "    if not all_data:\n",
    "        print(\"No .xls files found in the specified folder.\")\n",
    "        return None\n",
    "\n",
    "    try:\n",
    "      combined_df = pd.concat(all_data, ignore_index=True)\n",
    "      return combined_df\n",
    "    except Exception as e:\n",
    "      print(f\"Error combining dataframes: {e}\")\n",
    "      return None\n",
    "\"\"\"\n",
    "# Usage:\n",
    "folder_path = \"Sale_Data\"  # Replace with the actual path to your folder\n",
    "df = load_excel_files(folder_path)\n",
    "\n",
    "#Debug:\n",
    "if df is not None:\n",
    "    print(df.head())  # Print the first few rows of the combined DataFrame\n",
    "\"\"\""
   ]
  },
  {
   "cell_type": "code",
   "execution_count": null,
   "id": "b6bba96c-d825-4710-90d5-040f61cdaaf0",
   "metadata": {},
   "outputs": [],
   "source": [
    "# initialize empty df and load Sale_Data\n",
    "df = load_excel_files(\"Sale_Data\")\n",
    "df.head()"
   ]
  },
  {
   "cell_type": "code",
   "execution_count": null,
   "id": "d18b605a-1f33-4d29-a865-805cc7f084b9",
   "metadata": {},
   "outputs": [],
   "source": [
    "# Get the unique payer names\n",
    "unique_payers = df['Company_Name'].unique()\n",
    "\n",
    "# Display the unique payer names\n",
    "#unique_payers"
   ]
  },
  {
   "cell_type": "code",
   "execution_count": null,
   "id": "af74a602-6724-4045-8892-ca5d465dbe57",
   "metadata": {},
   "outputs": [],
   "source": [
    "query_engine = PandasQueryEngine(df=df, verbose=True) #OpenAI\n",
    "#query_engine = PandasQueryEngine(df=df, llm=Deepseek_LLM, verbose=True)\n",
    "#query_engine = PandasQueryEngine(df=df, llm=Ollama_LLM, verbose=True)\n",
    "\"\"\"\n",
    "Initializes a PandasQueryEngine to query a pandas DataFrame using a language model.\n",
    "\n",
    "This query engine allows you to ask questions about the data in the DataFrame using natural language.\n",
    "The `llm` argument specifies the language model to use for generating queries.\n",
    "The `verbose=True` argument enables detailed logging of the query execution process.\n",
    "\"\"\"\n",
    "prompts = query_engine.get_prompts()\n",
    "#print(prompts[\"pandas_prompt\"].template)"
   ]
  },
  {
   "cell_type": "code",
   "execution_count": null,
   "id": "c23b561d-685f-41e9-95fd-90fb90b9e1e5",
   "metadata": {},
   "outputs": [],
   "source": [
    "new_prompt = PromptTemplate(\n",
    "    \"\"\"\\\n",
    "You are working with a pandas dataframe in Python.\n",
    "The name of the dataframe is `df`.\n",
    "The dataframe contains data about sale data. \n",
    "It have 8 columns: \n",
    "Company_Name is the full name of the buyer\n",
    "Item_Code is the ERP \n",
    "Item_Details is the item information including the thickness, width, length of the steel\n",
    "Quantity is the purchasing quantity,\n",
    "Unit is the unit of purchasing quantity,\n",
    "Value is the purchasing value, \n",
    "Currency is the unit of purchasing value, \n",
    "Billing Date is the date that issues the billing or invoice\t\t\t\t\t\n",
    "\n",
    "This is the result of `print(df.head())`: {df_str}\n",
    "\n",
    "Follow these instructions: {instruction_str}\n",
    "Query: {query_str}\n",
    "\n",
    "Return the answer from the dataframe with a natural language explanation of the answer.\n",
    "\"Generate *only* Pandas code to answer the question. Do not include any surrounding text or keywords, such as 'python'.\"\n",
    "Expression: \"\"\"\n",
    ")\n",
    "\n",
    "query_engine.update_prompts({\"pandas_prompt\": new_prompt})\n",
    "prompts = query_engine.get_prompts()\n",
    "#print(prompts[\"pandas_prompt\"].template)"

   ]
  },
  {
   "cell_type": "code",
   "execution_count": null,
   "id": "7ccfb404-ded3-4af1-907c-97bad310ddcb",
   "metadata": {},
   "outputs": [],
   "source": [
    "# Replace predict with create\n",
    "def _predict(prompt, **kwargs):\n",
    "    \"\"\"Helper function to make predict calls using the Ollama API.\"\"\"\n",
    "    global Deepseek_MODEL  # Access the global variable\n",
    "    response = Deepseek_LLM.chat.completions.create(\n",
    "        model=Deepseek_MODEL,\n",
    "        messages=[\n",
    "            {\"role\": \"system\", \"content\": \"You are an pandas dataframe expert, user will gave you an query, you will respond with Python executable query code using Pandas. Follow user instruction step by step.\"},\n",
    "            {\"role\": \"user\", \"content\": prompt.format(**kwargs)}\n",
    "        ]\n",
    "    )\n",
    "    #print(prompts[\"pandas_prompt\"].template)\n",
    "    #print(prompt.format(**kwargs))\n",
    "    return response.choices[0].message.content\n",
    "\n",
    "# Monkey patch the predict method onto the Ollama_LLM object\n",
    "Deepseek_LLM.predict = _predict"
   ]
  },
  {
   "cell_type": "code",
   "execution_count": null,
   "id": "3b17da7c-252a-42d3-bac2-35bf35a07d01",
   "metadata": {},
   "outputs": [],
   "source": [
    "'''\n",
    "response = query_engine.query(\"What item details, quantiy and value did CÔNG TY TNHH ASABA VIET NAM MANUFACTURING company bought?\")\n",
    "print(str(response))\n",
    "'''"
   ]
  },
  {
   "cell_type": "code",
   "execution_count": null,
   "id": "11e5133f-9cc2-428d-84c3-9be44f9545e3",
   "metadata": {},
   "outputs": [],
   "source": [
    "'''\n",
    "Pandas_intrusction = response.metadata['pandas_instruction_str']\n",
    "Pandas_output = response.metadata['raw_pandas_output']\n",
    "print(Pandas_intrusction)\n",
    "print(Pandas_output)\n",
    "'''"
   ]
  },
  {
   "cell_type": "code",
   "execution_count": null,
   "id": "834d195e-987f-42da-8442-45216b51700a",
   "metadata": {},
   "outputs": [],
   "source": [
    "def check_Query_output(prompt):\n",
    "    Error_check = False\n",
    "    Pandas_output = None  # Initialize Pandas_output\n",
    "\n",
    "    while not Error_check:  # Corrected while loop condition\n",
    "        Query_Answer = query_engine.query(prompt)\n",
    "        print(Query_Answer)\n",
    "        if Query_Answer.metadata and 'raw_pandas_output' in Query_Answer.metadata:\n",
    "            Pandas_intrusction = Query_Answer.metadata['pandas_instruction_str']\n",
    "            Pandas_output = Query_Answer.metadata['raw_pandas_output']\n",
    "            #print(Pandas_output)\n",
    "            if \"error\" in Pandas_output.lower():\n",
    "                prompt = prompt + \" \" + Pandas_output + \" \" + Pandas_intrusction\n",
    "                Error_check = False\n",
    "            else:\n",
    "                Error_check = True\n",
    "        else:\n",
    "            Pandas_output = str(Query_Answer)  # Return the string of the query answer.\n",
    "            Error_check = True # exit the loop.\n",
    "\n",
    "    return Pandas_output"
   ]
  },
  {
   "cell_type": "code",
   "execution_count": null,
   "id": "2a82d643-5051-4bbd-8a2a-b40b5ea4b8e9",
   "metadata": {},
   "outputs": [],
   "source": [
    "'''\n",
    "output = check_Query_output(\"What item details, quantiy and value did CÔNG TY TNHH ASABA VIET NAM MANUFACTURING company bought?\")\n",
    "print(output)\n",
    "'''"
   ]
  },
  {
   "cell_type": "code",
   "execution_count": null,
   "id": "12f02607-3512-419f-8c6d-2a3354d26a78",
   "metadata": {},
   "outputs": [],
   "source": [
    "from llama_index.embeddings.fastembed import FastEmbedEmbedding\n",
    "from llama_index.core import StorageContext,load_index_from_storage\n",
    "\n",
    "# Import necessary classes from the llama_index package\n",
    "from llama_index.core import VectorStoreIndex,SimpleDirectoryReader, Document\n",
    "\n",
    "# Read documents from the specified directory and load a specific document, \"report.pdf\".\n",
    "documents = [Document(text=payer_name) for payer_name in df['Company_Name'].unique()]\n",
    "\n",
    "# Create a VectorStoreIndex object from the documents. This will involve processing the documents\n",
    "# and creating a vector representation for each of them, suitable for semantic searching.\n",
    "embeddings = FastEmbedEmbedding()\n",
    "index = VectorStoreIndex.from_documents(documents, embeddings=embeddings)\n",
    "                                    \n",
    "# Create a storage context\n",
    "storage_context = StorageContext.from_defaults(vector_store=index.vector_store)\n",
    "\n",
    "# Persist the storage context to disk\n",
    "storage_context.persist()\n",
    "\n",
    "# Convert the VectorStoreIndex object into a query engine. This query engine can be used to\n",
    "# perform semantic searches on the index, matching natural language queries to the most relevant\n",
    "# documents in the index.\n",
    "query_engine_name = index.as_query_engine()\n",
    "\n",
    "# Use the query engine to search for documents that are relevant to the query\n",
    "# from the indexed documents based on the semantic understanding of the query.\n",
    "#response = query_engine_name.query(\"What is company asaba full name?\")\n",
    "\n",
    "# Print the response obtained from the query. This will display the result of the semantic search,\n",
    "# showing the information or documents that best match the query about the 2024 outlook.\n",
    "#print(response)"
   ]
  },
  {
   "cell_type": "code",
   "execution_count": null,
   "id": "4b4c40cd-29b5-4b7c-b29b-742f6d8b71eb",
   "metadata": {},
   "outputs": [],
   "source": [
    "def get_company_name(query):\n",
    "    response = Ollama_LLM.chat.completions.create(\n",
    "        model=Ollama_MODEL,\n",
    "        messages=[{\"role\": \"user\", \"content\": f\"Extract the company name from this query: '{query}'. Return only the company name.\"}]\n",
    "    )\n",
    "    return response.choices[0].message.content\n",
    "#get_company_name(\"What did company asaba buy?\")"
   ]
  },
  {
   "cell_type": "code",
   "execution_count": null,
   "id": "05a3fccf-31fc-4a22-afe2-35f9624c468f",
   "metadata": {},
   "outputs": [],
   "source": [
    "def update_company_name(query_text, company, response):\n",
    "\n",
    "    updated_query = query_text.lower().replace(company.lower(), response)\n",
    "    return updated_query"
   ]
  },
  {
   "cell_type": "code",
   "execution_count": null,
   "id": "1d591fde-d80a-473e-b6cd-a6d955f675fb",
   "metadata": {},
   "outputs": [],
   "source": [
    "def update_query_with_company_name(query_text):\n",
    "\n",
    "    #print(f\"Original Query: {query_text}\")\n",
    "\n",
    "    company = get_company_name(query_text)\n",
    "    #print(f\"Extracted Company: {company}\")\n",
    "\n",
    "    response = query_engine_name.query(f\"What is the company:'{company}' full name?\")\n",
    "    #print(f\"Search Response: {response}\")\n",
    "\n",
    "    response_text = str(response)\n",
    "\n",
    "    updated_query = update_company_name(query_text, company, response_text)\n",
    "    #print(f\"Updated Query: {updated_query}\")\n",
    "\n",
    "    return updated_query"
   ]
  },
  {
   "cell_type": "code",
   "execution_count": null,
   "id": "71ea2dd6-9ee3-4fb1-a918-9cd6b5c47715",
   "metadata": {},
   "outputs": [],
   "source": [
    "def process_query(query_text):\n",
    "    updated_query = update_query_with_company_name(query_text)\n",
    "    result = check_Query_output(updated_query)\n",
    "    return result"
   ]
  },
  {
   "cell_type": "code",
   "execution_count": null,
   "id": "8949592d-5d6f-4341-b5ad-82ce53c12ff7",
   "metadata": {},
   "outputs": [],
   "source": [
    "process_query(\"What item details, quantiy and value did asaba company bought?\")"
   ]
  },
  {
   "cell_type": "code",
   "execution_count": null,

   "id": "fd4e4aa4-e98e-4994-8a2a-1774160643e8",

   "metadata": {},
   "outputs": [],
   "source": [
    "def process_query(message, history):\n",
    "    # For now, just echo the message back with a response\n",
    "    # You can add pandas DataFrame logic here later\n",
    "    response = f\"You said: {message}\"\n",
    "    return response"
   ]
  },
  {
   "cell_type": "code",
   "execution_count": null,

   "id": "ec16d0b8-3638-46f2-a307-8db30789acbf",
   "metadata": {},
   "outputs": [],
   "source": [
    "# Create the chat interface\n",
    "iface = gr.ChatInterface(\n",
    "    fn=process_query,\n",
    "    chatbot=gr.Chatbot(height=300, type=\"messages\"),  # Use 'messages' to avoid deprecation warning\n",
    "    textbox=gr.Textbox(placeholder=\"Enter your query here...\"),\n",
    "    title=\"Pandas Query Chat with Memory\",\n",
    "    description=\"Enter a query to interact with your pandas DataFrame. The chat remembers your conversation.\"\n",
    ")\n",
    "\n",
    "# Launch the interface\n",
    "iface.launch()"
   ]
  },
  {
   "cell_type": "code",
   "execution_count": null,

   "id": "8812f94a-2831-453a-8a24-fcbc9e3c7f92",
   "metadata": {},
   "outputs": [],
   "source": []
  },
  {
   "cell_type": "code",
   "execution_count": null,
   "id": "3de1f516-4b04-4041-b2d4-de31522e7759",
   "metadata": {},
   "outputs": [],
   "source": []
  },
  {
   "cell_type": "code",
   "execution_count": null,
   "id": "574bbb3e-c96b-4afb-b18f-b13aeb9de34a",
   "metadata": {},
   "outputs": [],
   "source": []
  },
  {
   "cell_type": "code",
   "execution_count": null,
   "id": "77818e59-969a-4d9f-bb40-20ec584f5224",
   "metadata": {},
   "outputs": [],
   "source": []
  },
  {
   "cell_type": "code",
   "execution_count": null,
   "id": "8bbd43dc-fadf-44f6-bf64-d97404251858",
   "metadata": {},
   "outputs": [],
   "source": []
  }
 ],
 "metadata": {
  "kernelspec": {
   "display_name": "Python 3 (ipykernel)",
   "language": "python",
   "name": "python3"
  },
  "language_info": {
   "codemirror_mode": {
    "name": "ipython",
    "version": 3
   },
   "file_extension": ".py",
   "mimetype": "text/x-python",
   "name": "python",
   "nbconvert_exporter": "python",
   "pygments_lexer": "ipython3",
   "version": "3.12.9"
  }
 },
 "nbformat": 4,
 "nbformat_minor": 5
}
