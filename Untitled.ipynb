{
 "cells": [
  {
   "cell_type": "code",
   "execution_count": null,
   "id": "94207d30-e57b-4cb3-99e9-31a95491c502",
   "metadata": {},
   "outputs": [],
   "source": [
    "import torch\n",
    "from transformers import pipeline\n",
    "\n",
    "FalconLLM_pipe = pipeline(\n",
    "    \"text-generation\", \n",
    "    model=\"tiiuae/Falcon3-7B-Base\", \n",
    "    torch_dtype=torch.bfloat16, \n",
    "    device_map=\"auto\"\n",
    ")\n",
    "response = FalconLLM_pipe(\"Question: How many hours in one day? Answer: \")\n",
    "print(response[0]['generated_text'])"
   ]
  },
  {
   "cell_type": "code",
   "execution_count": null,
   "id": "701813f0-04b0-42ff-9f31-b7f477433b85",
   "metadata": {},
   "outputs": [],
   "source": [
    "def predict_wrapper(prompt, df_str, query_str, instruction_str):\n",
    "    \"\"\"\n",
    "    Wrapper function to adapt the Hugging Face pipeline to the LLM.predict interface.\n",
    "    \"\"\"\n",
    "    formatted_prompt = prompt.format(df_str=df_str, query_str=query_str, instruction_str=instruction_str)\n",
    "    response = FalconLLM_pipe(formatted_prompt)[0]['generated_text']\n",
    "    return response\n",
    "\n",
    "# Monkey patch the predict method onto the pipeline object\n",
    "FalconLLM_pipe.predict = predict_wrapper\n"
   ]
  }
 ],
 "metadata": {
  "kernelspec": {
   "display_name": "Python 3 (ipykernel)",
   "language": "python",
   "name": "python3"
  },
  "language_info": {
   "codemirror_mode": {
    "name": "ipython",
    "version": 3
   },
   "file_extension": ".py",
   "mimetype": "text/x-python",
   "name": "python",
   "nbconvert_exporter": "python",
   "pygments_lexer": "ipython3",
   "version": "3.11.11"
  }
 },
 "nbformat": 4,
 "nbformat_minor": 5
}
